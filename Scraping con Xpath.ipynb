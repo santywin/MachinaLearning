{
  "nbformat": 4,
  "nbformat_minor": 0,
  "metadata": {
    "colab": {
      "name": "Untitled47.ipynb",
      "provenance": [],
      "authorship_tag": "ABX9TyNwzcMJVsDIyTVtp+SVJWXh",
      "include_colab_link": true
    },
    "kernelspec": {
      "name": "python3",
      "display_name": "Python 3"
    },
    "language_info": {
      "name": "python"
    }
  },
  "cells": [
    {
      "cell_type": "markdown",
      "metadata": {
        "id": "view-in-github",
        "colab_type": "text"
      },
      "source": [
        "<a href=\"https://colab.research.google.com/github/santywin/MachinaLearning/blob/main/Scraping%20con%20Xpath.ipynb\" target=\"_parent\"><img src=\"https://colab.research.google.com/assets/colab-badge.svg\" alt=\"Open In Colab\"/></a>"
      ]
    },
    {
      "cell_type": "code",
      "source": [
        "import requests\n",
        "import lxml.html as html # para aplicar Xpath a HTML"
      ],
      "metadata": {
        "id": "nZI69KCR_VUi"
      },
      "execution_count": 1,
      "outputs": []
    },
    {
      "cell_type": "code",
      "source": [
        "HOME_URL = 'https://www.larepublica.co/'\n",
        "\n",
        "\n",
        "XPATH_LINK_TO_ARTICLE = '//h2/a/@href'\n",
        "#XPATH_LINK_TO_ARTICLE = '//h2[@data-h=\"17\"]/a/@href'\n",
        "XPATH_TITLE = '//div[@class=\"row OpeningPostNormal\"]//h2/a/text()'\n",
        "XPATH_SUMMARY = '//div[@class=\"lead\"]/p/text()'\n",
        "XPATH_BODY = '//div[@class=\"html-content\"]/p[not(@class)]/text()'"
      ],
      "metadata": {
        "id": "1I4C7aaq_XKc"
      },
      "execution_count": 8,
      "outputs": []
    },
    {
      "cell_type": "code",
      "source": [
        "def parse_home():\n",
        "    try:\n",
        "        response = requests.get(HOME_URL)\n",
        "        \n",
        "        if response.status_code == 200:\n",
        "            home = response.content.decode('utf-8')\n",
        "            parsed = html.fromstring(home)\n",
        "    \n",
        "            links_to_notices = parsed.xpath(XPATH_LINK_TO_ARTICLE)\n",
        "            print(len(links_to_notices))\n",
        "            print(links_to_notices)\n",
        "            \n",
        "        else:\n",
        "            raise ValueError(f\"Error: {response.status_code}\")\n",
        "\n",
        "\n",
        "    except ValueError as ve: \n",
        "        print(ve)"
      ],
      "metadata": {
        "id": "CUJDhckT_Y5e"
      },
      "execution_count": 3,
      "outputs": []
    },
    {
      "cell_type": "code",
      "source": [
        "\n",
        "def main():\n",
        "    parse_home()"
      ],
      "metadata": {
        "id": "QjKaAOXv_bex"
      },
      "execution_count": 4,
      "outputs": []
    },
    {
      "cell_type": "code",
      "execution_count": 9,
      "metadata": {
        "colab": {
          "base_uri": "https://localhost:8080/"
        },
        "id": "IX8nBuSQ_T4K",
        "outputId": "93d069a2-5890-4e2e-df31-8f9ddc080207"
      },
      "outputs": [
        {
          "output_type": "stream",
          "name": "stdout",
          "text": [
            "9\n",
            "['https://www.larepublica.co/inside/video/omar-gonzalez-pardo-3348051', 'https://www.larepublica.co/inside/video/roberto-moreno-3342712', 'https://www.larepublica.co/inside/video/rodolfo-hernandez-3342710', 'https://www.larepublica.co/especiales/fintech-para-la-inclusion', 'https://www.larepublica.co/especiales/zonas-francas-2022', 'https://www.larepublica.co/especiales/especial-elecciones-presidenciales-2022', 'https://www.larepublica.co/comunidad-empresarial/pereira-se-esta-transformando', 'https://www.larepublica.co/comunidad-empresarial/soluciones-para-emprendedores', 'https://www.larepublica.co/comunidad-empresarial/contenido-patrocinado']\n"
          ]
        }
      ],
      "source": [
        "\n",
        "\n",
        "if __name__ == '__main__':\n",
        "    main()"
      ]
    }
  ]
}